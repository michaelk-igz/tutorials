{
 "cells": [
  {
   "cell_type": "markdown",
   "metadata": {},
   "source": [
    "# 2. Incoming Event Handler\n",
    "  --------------------------------------------------------------------"
   ]
  },
  {
   "cell_type": "markdown",
   "metadata": {},
   "source": [
    "Handle incoming events and write them to an output V3IO Stream `incoming-events-stream`.\n",
    "The received data is partitioned by `user_id`.\n",
    "\n",
    "![Model deployment with streaming Real-time operational Pipeline](../../assets/images/model-deployment-with-streaming.png)\n",
    "\n",
    "The rest of the notebooks rely on the output stream of this notebook. Therefore, one can change the input data without affecting the rest of the workflow."
   ]
  },
  {
   "cell_type": "markdown",
   "metadata": {},
   "source": [
    "## Initialize"
   ]
  },
  {
   "cell_type": "markdown",
   "metadata": {},
   "source": [
    "Load the project"
   ]
  },
  {
   "cell_type": "code",
   "execution_count": 1,
   "metadata": {},
   "outputs": [],
   "source": [
    "from mlrun import load_project\n",
    "from os import path\n",
    "\n",
    "project_path = path.abspath('conf')\n",
    "project = load_project(project_path)"
   ]
  },
  {
   "cell_type": "markdown",
   "metadata": {},
   "source": [
    "Get the generated stream path, this is the input we use and we output to the \"incoming events\" which is later consumed by other functions"
   ]
  },
  {
   "cell_type": "code",
   "execution_count": 2,
   "metadata": {},
   "outputs": [
    {
     "name": "stdout",
     "output_type": "stream",
     "text": [
      "Input stream path: iguazio/examples/model-deployment-with-streaming/data/generated-stream\n"
     ]
    }
   ],
   "source": [
    "input_stream = project.params.get('STREAM_CONFIGS').get('generated-stream')\n",
    "input_stream_path =  input_stream.get('path')\n",
    "print(f'Input stream path: {input_stream_path}')"
   ]
  },
  {
   "cell_type": "markdown",
   "metadata": {},
   "source": [
    "Nuclio leverages consumer groups. When one or more Nuclio replicas join a consumer group, each replica receives its equal share of the shards, based on the number of replicas that are defined in the function.\n",
    "\n",
    "We set up the input stream URL below. A consumer-group URL is in the form of `http://v3io-webapi:8081/<container name>/<stream path>@<consumer group name>`. In this case we use `WEB_API_USERS` for URL prefix `http://v3io-webapi:8081/<container name>` and a consumer group named **`incomingeventhandler`**.\n",
    "\n",
    "For more information, refer to the [Nuclio v3iostream trigger reference documentation](https://nuclio.io/docs/latest/reference/triggers/v3iostream/)."
   ]
  },
  {
   "cell_type": "code",
   "execution_count": 3,
   "metadata": {},
   "outputs": [
    {
     "name": "stdout",
     "output_type": "stream",
     "text": [
      "Input stream URL: http://v3io-webapi:8081/users/iguazio/examples/model-deployment-with-streaming/data/generated-stream@incomingeventhandler\n"
     ]
    }
   ],
   "source": [
    "WEB_API_USERS = project.params.get('WEB_API_USERS')\n",
    "input_stream_url = path.join(WEB_API_USERS, input_stream_path) + \"@incomingeventhandler\"\n",
    "print(f'Input stream URL: {input_stream_url}')"
   ]
  },
  {
   "cell_type": "markdown",
   "metadata": {},
   "source": [
    "Get the incoming-events stream path, this is where we output the data"
   ]
  },
  {
   "cell_type": "code",
   "execution_count": 4,
   "metadata": {},
   "outputs": [
    {
     "name": "stdout",
     "output_type": "stream",
     "text": [
      "Output stream path: iguazio/examples/model-deployment-with-streaming/data/incoming-events-stream\n"
     ]
    }
   ],
   "source": [
    "output_stream = project.params.get('STREAM_CONFIGS').get('incoming-events-stream')\n",
    "output_stream_path =  output_stream.get('path')\n",
    "print(f'Output stream path: {output_stream_path}')"
   ]
  },
  {
   "cell_type": "markdown",
   "metadata": {},
   "source": [
    "## Create and Test a Local Function "
   ]
  },
  {
   "cell_type": "markdown",
   "metadata": {},
   "source": [
    "[Nuclio](https://nuclio.io/) is a high-performance open-source and managed serverless framework, which is available as a predefined tenant-wide platform service (`nuclio`).\n",
    "The demo uses Nuclio to create and deploy serverless functions.\n",
    "Therefore, you need to import the Nuclio package and configure Nuclio for your project.\n",
    "\n",
    "The platform's Jupyter Notebook service preinstalls the [nuclio-jupyter SDK](https://github.com/nuclio/nuclio-jupyter/blob/master/README.md) for creating and deploying Nuclio functions with Python and Jupyter Notebook.\n",
    "The tutorial uses the Nuclio magic commands and annotation comments of this SDK to automate function code generation.\n",
    "The magic commands are initialized when you import the `nuclio` package.<br>\n",
    "The `%nuclio` magic commands are used to run Nuclio commands from Jupyter notebooks (`%nuclio <Nuclio command>`).\n",
    "You can also use `%%nuclio` at the start of a cell to identify the entire cell as containing Nuclio code.\n",
    "The magic commands are initialized when you import the `nuclio` package.<br>\n",
    "The `# nuclio: start-code`, `# nuclio: end-code`, and `# nuclio: ignore` section-marker annotations notify Nuclio of the beginning or end of code sections.\n",
    "Nuclio ignores all notebook code before a `# nuclio: start-code` marker or after an `# nuclio: end-code` marker.\n",
    "Nuclio translates all other notebook code sections into function code, except for sections that are marked with the `# nuclio: ignore` marker."
   ]
  },
  {
   "cell_type": "markdown",
   "metadata": {},
   "source": [
    "### Import Nuclio"
   ]
  },
  {
   "cell_type": "markdown",
   "metadata": {},
   "source": [
    "The following code imports the `nuclio` Python package."
   ]
  },
  {
   "cell_type": "code",
   "execution_count": 5,
   "metadata": {},
   "outputs": [],
   "source": [
    "import nuclio"
   ]
  },
  {
   "cell_type": "markdown",
   "metadata": {},
   "source": [
    "#### Configure Nuclio"
   ]
  },
  {
   "cell_type": "markdown",
   "metadata": {},
   "source": [
    "The following code uses the `# nuclio: start-code` marker to instruct Nuclio to start processing code only from this location, and then performs basic Nuclio function configuration &mdash; defining the name of the function's container image (`mlrun/ml-models`), the function type (`nuclio`), and some additional package installation commands.\n",
    "\n",
    "> **Note:** You can add code to define function dependencies and perform additional configuration after the `# nuclio: start-code` marker."
   ]
  },
  {
   "cell_type": "code",
   "execution_count": 6,
   "metadata": {},
   "outputs": [],
   "source": [
    "# nuclio: start-code"
   ]
  },
  {
   "cell_type": "code",
   "execution_count": 7,
   "metadata": {},
   "outputs": [],
   "source": [
    "%nuclio cmd -c pip install v3io"
   ]
  },
  {
   "cell_type": "code",
   "execution_count": 8,
   "metadata": {},
   "outputs": [
    {
     "name": "stdout",
     "output_type": "stream",
     "text": [
      "%nuclio: setting spec.build.baseImage to 'mlrun/ml-models'\n",
      "%nuclio: setting kind to 'nuclio'\n"
     ]
    }
   ],
   "source": [
    "%%nuclio config\n",
    "spec.build.baseImage = \"mlrun/ml-models\"\n",
    "kind = \"nuclio\""
   ]
  },
  {
   "cell_type": "markdown",
   "metadata": {},
   "source": [
    "## Function code"
   ]
  },
  {
   "cell_type": "code",
   "execution_count": 9,
   "metadata": {},
   "outputs": [],
   "source": [
    "import os\n",
    "import json\n",
    "\n",
    "import v3io.dataplane\n",
    "\n",
    "def init_context(context):\n",
    "    V3IO_ACCESS_KEY = os.getenv('V3IO_ACCESS_KEY')\n",
    "    container = os.getenv('CONTAINER')\n",
    "    output_stream_path = os.getenv('OUTPUT_STREAM_PATH')\n",
    "    partition_attr = os.getenv('PARTITION_ATTR')\n",
    "    WEB_API = os.getenv('WEB_API')\n",
    "    v3io_client = v3io.dataplane.Client(endpoint=WEB_API, access_key=V3IO_ACCESS_KEY)\n",
    "\n",
    "    setattr(context, 'v3io_client', v3io_client)\n",
    "    setattr(context, 'partition_attr', partition_attr)\n",
    "    setattr(context, 'container', container)\n",
    "    setattr(context, 'output_stream_path', output_stream_path)\n",
    "\n",
    "\n",
    "def handler(context, event):\n",
    "    if type(event.body) is dict:\n",
    "        event_dict = event.body\n",
    "    else:\n",
    "        event_dict = json.loads(event.body)\n",
    "        \n",
    "    context.logger.info_with('Got invoked',\n",
    "                             trigger_kind=event.trigger.kind,\n",
    "                             event_body=event_dict)\n",
    "        \n",
    "    partition_key = event_dict.get(context.partition_attr)\n",
    "    record = event_to_record(event_dict, partition_key)\n",
    "    \n",
    "    print(context.output_stream_path)\n",
    "    resp = context.v3io_client.put_records(container=context.container, \n",
    "                                   path=context.output_stream_path, \n",
    "                                   records=[record], \n",
    "                                   raise_for_status=v3io.dataplane.RaiseForStatus.never)\n",
    "    \n",
    "    context.logger.info_with('Sent event to stream', \n",
    "                             record=record,\n",
    "                             response_status=resp.status_code, \n",
    "                             response_body=resp.body.decode('utf-8'))\n",
    "    \n",
    "    return resp.status_code\n",
    "\n",
    "\n",
    "def event_to_record(event_dict, partition_key):\n",
    "    event_str = json.dumps(event_dict)\n",
    "    return {'data': event_str, 'partition_key': str(partition_key)}"
   ]
  },
  {
   "cell_type": "markdown",
   "metadata": {},
   "source": [
    "The following cell uses the `# nuclio: end-code` marker to mark the end of a Nuclio code section and instruct Nuclio to stop parsing the notebook at this point.<br>\n",
    "> **IMPORTANT:** Do not remove the end-code cell."
   ]
  },
  {
   "cell_type": "code",
   "execution_count": 10,
   "metadata": {},
   "outputs": [],
   "source": [
    "# nuclio: end-code"
   ]
  },
  {
   "cell_type": "markdown",
   "metadata": {},
   "source": [
    "## Environment Variables"
   ]
  },
  {
   "cell_type": "markdown",
   "metadata": {},
   "source": [
    "Set a dictionary for initializing the environment variables used by the function"
   ]
  },
  {
   "cell_type": "code",
   "execution_count": 11,
   "metadata": {},
   "outputs": [],
   "source": [
    "envs = {'V3IO_ACCESS_KEY': os.getenv('V3IO_ACCESS_KEY'),\n",
    "        'WEB_API' : project.params.get('WEB_API'),\n",
    "        'CONTAINER': project.params.get('CONTAINER'),\n",
    "        'OUTPUT_STREAM_PATH': output_stream_path,\n",
    "        'PARTITION_ATTR': project.params.get('PARTITION_ATTR')}"
   ]
  },
  {
   "cell_type": "markdown",
   "metadata": {},
   "source": [
    "## Test Locally"
   ]
  },
  {
   "cell_type": "code",
   "execution_count": 12,
   "metadata": {},
   "outputs": [
    {
     "name": "stdout",
     "output_type": "stream",
     "text": [
      "Python> 2020-08-24 18:29:25,634 [info] Got invoked: {'trigger_kind': '', 'event_body': {'user_id': 111111, 'event_type': 'spin'}}\n",
      "iguazio/examples/model-deployment-with-streaming/data/incoming-events-stream\n",
      "Python> 2020-08-24 18:29:25,636 [info] Sent event to stream: {'record': {'data': '{\"user_id\": 111111, \"event_type\": \"spin\"}', 'partition_key': '111111'}, 'response_status': 200, 'response_body': '{ \"FailedRecordCount\":0,\"Records\": [{ \"SequenceNumber\":1,\"ShardId\":5 } ] }'}\n"
     ]
    },
    {
     "data": {
      "text/plain": [
       "200"
      ]
     },
     "execution_count": 12,
     "metadata": {},
     "output_type": "execute_result"
    }
   ],
   "source": [
    "event = nuclio.Event(body=b'{\"user_id\" : 111111 , \"event_type\": \"spin\"}')\n",
    "for key, value in envs.items():\n",
    "    os.environ[key] = str(value)\n",
    "init_context(context)\n",
    "handler(context, event)"
   ]
  },
  {
   "cell_type": "markdown",
   "metadata": {},
   "source": [
    "## Nuclio Deploy"
   ]
  },
  {
   "cell_type": "markdown",
   "metadata": {},
   "source": [
    "### Convert code to function"
   ]
  },
  {
   "cell_type": "markdown",
   "metadata": {},
   "source": [
    "We use MLRun `code_to_function` in order to convert the python code to a Nuclio function. We then set the relevant enrivonment variables and streaming trigger."
   ]
  },
  {
   "cell_type": "code",
   "execution_count": 13,
   "metadata": {},
   "outputs": [
    {
     "data": {
      "text/plain": [
       "<mlrun.runtimes.function.RemoteRuntime at 0x7fb1f66cf4d0>"
      ]
     },
     "execution_count": 13,
     "metadata": {},
     "output_type": "execute_result"
    }
   ],
   "source": [
    "from mlrun import code_to_function\n",
    "\n",
    "gen_func = code_to_function(name='incoming')\n",
    "project.set_function(gen_func)\n",
    "incoming_event_handler = project.func('incoming')\n",
    "incoming_event_handler.set_envs(envs)\n",
    "incoming_event_handler.add_trigger('incoming',\n",
    "                                   nuclio.triggers.V3IOStreamTrigger(url=input_stream_url,\n",
    "                                                                     access_key=os.getenv('V3IO_ACCESS_KEY'),\n",
    "                                                                     maxWorkers=10))"
   ]
  },
  {
   "cell_type": "code",
   "execution_count": 14,
   "metadata": {},
   "outputs": [],
   "source": [
    "project.save()"
   ]
  },
  {
   "cell_type": "markdown",
   "metadata": {},
   "source": [
    "### Deploy"
   ]
  },
  {
   "cell_type": "code",
   "execution_count": 15,
   "metadata": {},
   "outputs": [
    {
     "name": "stdout",
     "output_type": "stream",
     "text": [
      "> 2020-08-24 18:29:27,123 [info] deploy started\n",
      "[nuclio] 2020-08-24 18:29:28,226 (info) Build complete\n",
      "[nuclio] 2020-08-24 18:29:32,277 (info) Function deploy complete\n",
      "[nuclio] 2020-08-24 18:29:32,284 done creating model-deployment-with-streaming-iguazio-incoming, function address: 3.131.62.169:31720\n"
     ]
    },
    {
     "data": {
      "text/plain": [
       "'http://3.131.62.169:31720'"
      ]
     },
     "execution_count": 15,
     "metadata": {},
     "output_type": "execute_result"
    }
   ],
   "source": [
    "#Build image\n",
    "incoming_event_handler.deploy()"
   ]
  },
  {
   "cell_type": "markdown",
   "metadata": {},
   "source": [
    "# Done"
   ]
  },
  {
   "cell_type": "markdown",
   "metadata": {},
   "source": [
    "Continue to [**2a-stream-to-parquet.ipynb**](2a-stream-to-parquet.ipynb) to store all incoming data to parquet files."
   ]
  }
 ],
 "metadata": {
  "kernelspec": {
   "display_name": "Python [conda env:root] *",
   "language": "python",
   "name": "conda-root-py"
  },
  "language_info": {
   "codemirror_mode": {
    "name": "ipython",
    "version": 3
   },
   "file_extension": ".py",
   "mimetype": "text/x-python",
   "name": "python",
   "nbconvert_exporter": "python",
   "pygments_lexer": "ipython3",
   "version": "3.7.6"
  }
 },
 "nbformat": 4,
 "nbformat_minor": 4
}
