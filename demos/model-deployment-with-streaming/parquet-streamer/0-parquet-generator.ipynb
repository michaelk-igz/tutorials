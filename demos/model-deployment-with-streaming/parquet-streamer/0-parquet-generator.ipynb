{
 "cells": [
  {
   "cell_type": "markdown",
   "metadata": {},
   "source": [
    "# Parquet generator and streamer"
   ]
  },
  {
   "cell_type": "code",
   "execution_count": 42,
   "metadata": {},
   "outputs": [],
   "source": [
    "%run config.py"
   ]
  },
  {
   "cell_type": "code",
   "execution_count": null,
   "metadata": {},
   "outputs": [],
   "source": [
    "BATCH_SIZE = 1024\n",
    "TARGET_PATH = DATA_PATH\n",
    "FILE_NAME = 'test_arthur'\n",
    "OUTPUT_STREAM_PATH = STREAM_CONFIGS['generated-stream']['path']\n",
    "SHARDS_COUNT = STREAM_CONFIGS['generated-stream']['shard_count']\n",
    "SHARD_KEY = PARTITION_ATTR"
   ]
  },
  {
   "cell_type": "code",
   "execution_count": null,
   "metadata": {},
   "outputs": [],
   "source": [
    "!python -m pip install pandas\n",
    "!python -m pip install pyarrow\n",
    "!python -m pip install fastparquet\n",
    "!python -m pip install v3io\n"
   ]
  },
  {
   "cell_type": "markdown",
   "metadata": {},
   "source": [
    "# Run to generate gzip parquet file"
   ]
  },
  {
   "cell_type": "code",
   "execution_count": null,
   "metadata": {},
   "outputs": [],
   "source": [
    "\"\"\"\n",
    "event_dict = [{\"user_id\" : str(i) , \"event_type\": \"spin\" + str(i)} for i in range(10000000)]\n",
    "file_name = \"test_arthur\"\n",
    "target_path = os.getenv('TARGET_PATH')\n",
    "df = pd.DataFrame.from_records(event_dict)\n",
    "df.to_parquet(path=os.path.join(target_path, file_name), compression='gzip')\n",
    "\"\"\""
   ]
  },
  {
   "cell_type": "markdown",
   "metadata": {},
   "source": [
    "# Stream Parquet to Output Stream Path"
   ]
  },
  {
   "cell_type": "code",
   "execution_count": null,
   "metadata": {},
   "outputs": [],
   "source": [
    "import os\n",
    "import pandas as pd\n",
    "import numpy as np\n",
    "import json\n",
    "import datetime\n",
    "import fastparquet\n",
    "import v3io.dataplane\n"
   ]
  },
  {
   "cell_type": "code",
   "execution_count": null,
   "metadata": {},
   "outputs": [],
   "source": [
    "def handler(event):\n",
    "    V3IO_ACCESS_KEY = os.getenv('V3IO_ACCESS_KEY')\n",
    "    v3io_client = v3io.dataplane.Client(endpoint='http://v3io-webapi:8081', access_key=V3IO_ACCESS_KEY)\n",
    "    if type(event) is dict:\n",
    "        event_dict = event\n",
    "    else:\n",
    "        event_dict = json.loads(event)\n",
    "    parquet = event_dict[\"file\"]\n",
    "    partition_key = event_dict[\"partition_key\"] or None\n",
    "    pfile = fastparquet.ParquetFile(parquet)\n",
    "    for i, df in enumerate(pfile.iter_row_groups()):\n",
    "        write_header = (i==0)\n",
    "        n = 1000  #chunk row size\n",
    "        list_df = [df[i:i+n] for i in range(0,df.shape[0],n)]\n",
    "        for frame in list_df:\n",
    "            records = []\n",
    "\n",
    "            for n, row in frame.iterrows():\n",
    "                records.append(event_to_record(row.to_dict(),partition_key))\n",
    "            resp = v3io_client.put_records(container=CONTAINER, \n",
    "                                           path=OUTPUT_STREAM_PATH, \n",
    "                                           records=records, \n",
    "                                           raise_for_status=v3io.dataplane.RaiseForStatus.never)\n",
    "            \n",
    "def event_to_record(event_dict, partition_key=None):\n",
    "    event_str = json.dumps(event_dict)\n",
    "    return {'data': event_str, 'partition_key': str(partition_key)}\n",
    "\n"
   ]
  },
  {
   "cell_type": "markdown",
   "metadata": {},
   "source": [
    "## Test Locally"
   ]
  },
  {
   "cell_type": "code",
   "execution_count": null,
   "metadata": {},
   "outputs": [],
   "source": [
    "path = FILE_PATH\n",
    "event = {\"file\" :  path, \"partition_key\" : None}\n",
    "handler(event)"
   ]
  }
 ],
 "metadata": {
  "kernelspec": {
   "display_name": "Python [conda env:root] *",
   "language": "python",
   "name": "conda-root-py"
  },
  "language_info": {
   "codemirror_mode": {
    "name": "ipython",
    "version": 3
   },
   "file_extension": ".py",
   "mimetype": "text/x-python",
   "name": "python",
   "nbconvert_exporter": "python",
   "pygments_lexer": "ipython3",
   "version": "3.6.8"
  }
 },
 "nbformat": 4,
 "nbformat_minor": 4
}
